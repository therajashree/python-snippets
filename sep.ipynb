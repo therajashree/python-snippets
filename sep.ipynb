{
 "cells": [
  {
   "cell_type": "markdown",
   "id": "2f3993ff",
   "metadata": {},
   "source": [
    "## Capitalize Every Word in a String"
   ]
  },
  {
   "cell_type": "code",
   "execution_count": 3,
   "id": "d9791312",
   "metadata": {},
   "outputs": [
    {
     "name": "stdout",
     "output_type": "stream",
     "text": [
      "Capitalized string: Pynative.com Is For Python Lovers\n"
     ]
    }
   ],
   "source": [
    "def capitalize_words(text):\n",
    "    words = text.split()  # Split the string into a list of words\n",
    "    capitalized_words = [word.capitalize() for word in words]  # Capitalize each word\n",
    "    return \" \".join(capitalized_words)  # Join the capitalized words back into a string\n",
    "\n",
    "# Example usage:\n",
    "str1 = \"pynative.com is for python lovers\"\n",
    "capitalized_string = capitalize_words(str1)\n",
    "print(\"Capitalized string:\", capitalized_string)"
   ]
  },
  {
   "cell_type": "code",
   "execution_count": 4,
   "id": "fd037b80",
   "metadata": {},
   "outputs": [
    {
     "name": "stdout",
     "output_type": "stream",
     "text": [
      "[0, 4, 16, 36, 64, 100]\n"
     ]
    }
   ],
   "source": [
    "squares = [x**2 for x in range(11) if x % 2 == 0]\n",
    "print(squares)\n"
   ]
  },
  {
   "cell_type": "code",
   "execution_count": 5,
   "id": "beca91ba",
   "metadata": {},
   "outputs": [
    {
     "name": "stdout",
     "output_type": "stream",
     "text": [
      "[1, 'Multiple of 2', 'Multiple of 3', 'Multiple of 2', 5, 'Multiple of 6', 7, 'Multiple of 2', 'Multiple of 3', 'Multiple of 2', 11, 'Multiple of 6', 13, 'Multiple of 2', 'Multiple of 3', 'Multiple of 2', 17, 'Multiple of 6', 19]\n"
     ]
    }
   ],
   "source": [
    "my_list = ['Multiple of 6' if i % 6 == 0\n",
    "  else 'Multiple of 2' if i % 2 == 0\n",
    "  else 'Multiple of 3' if i % 3 == 0\n",
    "  else i for i in range(1, 20)]\n",
    "print(my_list)"
   ]
  },
  {
   "cell_type": "code",
   "execution_count": 6,
   "id": "c020666b",
   "metadata": {},
   "outputs": [
    {
     "name": "stdout",
     "output_type": "stream",
     "text": [
      "1. apple\n",
      "2. banana\n",
      "3. cherry\n"
     ]
    }
   ],
   "source": [
    "fruits = [\"apple\", \"banana\", \"cherry\"]\n",
    "for index, fruit in enumerate(fruits, start=1):\n",
    "    print(f\"{index}. {fruit}\")"
   ]
  },
  {
   "cell_type": "markdown",
   "id": "195b7f21",
   "metadata": {},
   "source": [
    "## Capitalize Every Word in a String\n",
    "capitalizes the first letter of every word in a given sentence"
   ]
  },
  {
   "cell_type": "code",
   "execution_count": 2,
   "id": "7ab1017a",
   "metadata": {},
   "outputs": [
    {
     "name": "stdout",
     "output_type": "stream",
     "text": [
      "Capitalized words: Pynative.com Is For Python Lovers\n"
     ]
    }
   ],
   "source": [
    "def capitalize_words(text):\n",
    "    words = text.split()\n",
    "    capitalize_words = [word.capitalize() for word in words]\n",
    "    return \" \".join(capitalize_words)\n",
    "\n",
    "\n",
    "\n",
    "str1 = \"pynative.com is for python lovers\"\n",
    "capitalized_words_list = capitalize_words(str1)\n",
    "print(\"Capitalized words:\", capitalized_words_list)"
   ]
  },
  {
   "cell_type": "markdown",
   "id": "696d445f",
   "metadata": {},
   "source": [
    "## Get the squares of all even numbers from 0 to 10"
   ]
  },
  {
   "cell_type": "code",
   "execution_count": 3,
   "id": "0f6e5ca8",
   "metadata": {},
   "outputs": [
    {
     "name": "stdout",
     "output_type": "stream",
     "text": [
      "[0, 4, 16, 36, 64, 100]\n"
     ]
    }
   ],
   "source": [
    "squares = [number**2 for number in range(11) if number%2 == 0]\n",
    "print(squares)"
   ]
  },
  {
   "cell_type": "markdown",
   "id": "3b532664",
   "metadata": {},
   "source": [
    "## Given a list of numbers, create a new list containing only the even numbers, squared."
   ]
  },
  {
   "cell_type": "code",
   "execution_count": 5,
   "id": "17f014c8",
   "metadata": {},
   "outputs": [
    {
     "name": "stdout",
     "output_type": "stream",
     "text": [
      "even number squares only: [4, 16, 36, 64, 100]\n"
     ]
    }
   ],
   "source": [
    "numbers = [1, 2, 3, 4, 5, 6, 7, 8, 9, 10]\n",
    "\n",
    "even_number_square = [number**2 for number in numbers if number%2 == 0]\n",
    "\n",
    "print(\"even number squares only:\", even_number_square)"
   ]
  },
  {
   "cell_type": "markdown",
   "id": "1879d006",
   "metadata": {},
   "source": [
    "## Given a list of numbers, create a new list with only the even numbers"
   ]
  },
  {
   "cell_type": "code",
   "execution_count": 6,
   "id": "7cd1a89a",
   "metadata": {},
   "outputs": [
    {
     "name": "stdout",
     "output_type": "stream",
     "text": [
      "even numbers list: [2, 4, 6, 8, 10]\n"
     ]
    }
   ],
   "source": [
    "numbers = [1, 2, 3, 4, 5, 6, 7, 8, 9, 10]\n",
    "\n",
    "even_number_list = [number for number in numbers if number%2 ==0]\n",
    "\n",
    "print(\"even numbers list:\", even_number_list)"
   ]
  },
  {
   "cell_type": "markdown",
   "id": "2f3f1402",
   "metadata": {},
   "source": [
    "## Generate a list describing numbers 1-19 based on their divisibility"
   ]
  },
  {
   "cell_type": "code",
   "execution_count": 7,
   "id": "62b01e72",
   "metadata": {},
   "outputs": [
    {
     "name": "stdout",
     "output_type": "stream",
     "text": [
      "[1, 'Multiple of 2', 'Multiple of 3', 'Multiple of 2', 5, 'Multiple of 6', 7, 'Multiple of 2', 'Multiple of 3', 'Multiple of 2', 11, 'Multiple of 6', 13, 'Multiple of 2', 'Multiple of 3', 'Multiple of 2', 17, 'Multiple of 6', 19]\n"
     ]
    }
   ],
   "source": [
    "list = [\n",
    "    'Multiple of 6' if number%6 == 0\n",
    "    else 'Multiple of 2' if number%2 == 0\n",
    "    else 'Multiple of 3' if number%3 == 0\n",
    "    else number\n",
    "    for number in range(1, 20)\n",
    "]\n",
    "print(list)\n"
   ]
  },
  {
   "cell_type": "markdown",
   "id": "bd979250",
   "metadata": {},
   "source": [
    "## Reverse a String"
   ]
  },
  {
   "cell_type": "code",
   "execution_count": 8,
   "id": "beb25fb9",
   "metadata": {},
   "outputs": [
    {
     "name": "stdout",
     "output_type": "stream",
     "text": [
      "Reversed string: nohtyP\n"
     ]
    }
   ],
   "source": [
    "s = \"Python\"\n",
    "reversed_string = s[::-1]\n",
    "\n",
    "print(\"Reversed string:\", reversed_string)"
   ]
  },
  {
   "cell_type": "code",
   "execution_count": 9,
   "id": "a4a7d37f",
   "metadata": {},
   "outputs": [
    {
     "name": "stdout",
     "output_type": "stream",
     "text": [
      "True\n",
      "True\n",
      "False\n"
     ]
    }
   ],
   "source": [
    "def is_palindrome(s):\n",
    "    return s == s[::-1]\n",
    "\n",
    "print(is_palindrome(\"madam\"))\n",
    "print(is_palindrome(\"radar\"))\n",
    "print(is_palindrome(\"hello\"))"
   ]
  },
  {
   "cell_type": "markdown",
   "id": "8b3f05f0",
   "metadata": {},
   "source": [
    "## Palindrome Checker\n",
    "A palindrome is a word, number, or phrase that reads the same backward as forward. This snippet emphasizes string slicing, user interaction, and conditional logic."
   ]
  },
  {
   "cell_type": "code",
   "execution_count": 11,
   "id": "46132738",
   "metadata": {},
   "outputs": [
    {
     "name": "stdout",
     "output_type": "stream",
     "text": [
      "Word 'hello' is not a palindrome.\n"
     ]
    }
   ],
   "source": [
    "word = input(\"Enter a word: \")\n",
    "\n",
    "if word == word[::-1]:\n",
    "    print(f\"Word '{word}' is a palindrome.\")\n",
    "else:\n",
    "    print(f\"Word '{word}' is not a palindrome.\")"
   ]
  }
 ],
 "metadata": {
  "kernelspec": {
   "display_name": "venv",
   "language": "python",
   "name": "python3"
  },
  "language_info": {
   "codemirror_mode": {
    "name": "ipython",
    "version": 3
   },
   "file_extension": ".py",
   "mimetype": "text/x-python",
   "name": "python",
   "nbconvert_exporter": "python",
   "pygments_lexer": "ipython3",
   "version": "3.13.3"
  }
 },
 "nbformat": 4,
 "nbformat_minor": 5
}
