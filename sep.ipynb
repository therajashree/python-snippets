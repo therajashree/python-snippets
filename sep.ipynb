{
 "cells": [
  {
   "cell_type": "markdown",
   "id": "2f3993ff",
   "metadata": {},
   "source": [
    "## Capitalize Every Word in a String"
   ]
  },
  {
   "cell_type": "code",
   "execution_count": 3,
   "id": "d9791312",
   "metadata": {},
   "outputs": [
    {
     "name": "stdout",
     "output_type": "stream",
     "text": [
      "Capitalized string: Pynative.com Is For Python Lovers\n"
     ]
    }
   ],
   "source": [
    "def capitalize_words(text):\n",
    "    words = text.split()  # Split the string into a list of words\n",
    "    capitalized_words = [word.capitalize() for word in words]  # Capitalize each word\n",
    "    return \" \".join(capitalized_words)  # Join the capitalized words back into a string\n",
    "\n",
    "# Example usage:\n",
    "str1 = \"pynative.com is for python lovers\"\n",
    "capitalized_string = capitalize_words(str1)\n",
    "print(\"Capitalized string:\", capitalized_string)"
   ]
  },
  {
   "cell_type": "code",
   "execution_count": 4,
   "id": "fd037b80",
   "metadata": {},
   "outputs": [
    {
     "name": "stdout",
     "output_type": "stream",
     "text": [
      "[0, 4, 16, 36, 64, 100]\n"
     ]
    }
   ],
   "source": [
    "squares = [x**2 for x in range(11) if x % 2 == 0]\n",
    "print(squares)\n"
   ]
  },
  {
   "cell_type": "code",
   "execution_count": 5,
   "id": "beca91ba",
   "metadata": {},
   "outputs": [
    {
     "name": "stdout",
     "output_type": "stream",
     "text": [
      "[1, 'Multiple of 2', 'Multiple of 3', 'Multiple of 2', 5, 'Multiple of 6', 7, 'Multiple of 2', 'Multiple of 3', 'Multiple of 2', 11, 'Multiple of 6', 13, 'Multiple of 2', 'Multiple of 3', 'Multiple of 2', 17, 'Multiple of 6', 19]\n"
     ]
    }
   ],
   "source": [
    "my_list = ['Multiple of 6' if i % 6 == 0\n",
    "  else 'Multiple of 2' if i % 2 == 0\n",
    "  else 'Multiple of 3' if i % 3 == 0\n",
    "  else i for i in range(1, 20)]\n",
    "print(my_list)"
   ]
  },
  {
   "cell_type": "code",
   "execution_count": 6,
   "id": "c020666b",
   "metadata": {},
   "outputs": [
    {
     "name": "stdout",
     "output_type": "stream",
     "text": [
      "1. apple\n",
      "2. banana\n",
      "3. cherry\n"
     ]
    }
   ],
   "source": [
    "fruits = [\"apple\", \"banana\", \"cherry\"]\n",
    "for index, fruit in enumerate(fruits, start=1):\n",
    "    print(f\"{index}. {fruit}\")"
   ]
  }
 ],
 "metadata": {
  "kernelspec": {
   "display_name": "venv",
   "language": "python",
   "name": "python3"
  },
  "language_info": {
   "codemirror_mode": {
    "name": "ipython",
    "version": 3
   },
   "file_extension": ".py",
   "mimetype": "text/x-python",
   "name": "python",
   "nbconvert_exporter": "python",
   "pygments_lexer": "ipython3",
   "version": "3.13.3"
  }
 },
 "nbformat": 4,
 "nbformat_minor": 5
}
