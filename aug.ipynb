{
 "cells": [
  {
   "cell_type": "markdown",
   "id": "f4433d70",
   "metadata": {},
   "source": [
    "## 1.Convert a list of temperatures in Celsius to Fahrenheit using a list comprehension"
   ]
  },
  {
   "cell_type": "code",
   "execution_count": 3,
   "id": "77b97265",
   "metadata": {},
   "outputs": [
    {
     "name": "stdout",
     "output_type": "stream",
     "text": [
      "celsius_temps [0, 10, 15, 21, 30]\n",
      "fahrenheit_temps [32.0, 50.0, 59.0, 69.8, 86.0]\n"
     ]
    }
   ],
   "source": [
    "celsius_temps = [0, 10, 15, 21, 30]\n",
    "# Formula: Fahrenheit = Celsius * 9/5 + 32\n",
    "\n",
    "fahrenheit_temps = [celsius * 9/5 + 32 for celsius in celsius_temps]\n",
    "\n",
    "print(\"celsius_temps\", celsius_temps)\n",
    "print(\"fahrenheit_temps\", fahrenheit_temps)"
   ]
  },
  {
   "cell_type": "markdown",
   "id": "2c57fc34",
   "metadata": {},
   "source": [
    "## 2. Filter a dictionary to keep items with values above a certain threshold"
   ]
  },
  {
   "cell_type": "code",
   "execution_count": null,
   "id": "cd0719fd",
   "metadata": {},
   "outputs": [
    {
     "name": "stdout",
     "output_type": "stream",
     "text": [
      "Students who passed: {'Charlie', 'Alice'}\n"
     ]
    }
   ],
   "source": [
    "scores = {'Alice': 85, 'Bob': 72, 'Charlie': 90, 'Dave': 67}\n",
    "passing_score = 75\n",
    "\n",
    "passed = {name for name, score in scores.items() if score >= passing_score}\n",
    "\n",
    "print(\"Students who passed:\", passed)\n",
    "\n",
    "# What you learn:\n",
    "\n",
    "# Dictionary comprehensions\n",
    "\n",
    "# items() method\n",
    "\n",
    "# Conditional logic in comprehensions\n",
    "\n",
    "# How to filter data structures efficiently\n",
    "\n",
    "\n",
    "# How to filter data structures efficiently"
   ]
  },
  {
   "cell_type": "markdown",
   "id": "69c2450e",
   "metadata": {},
   "source": [
    "## 3. Using enumerate() for Indexed Looping"
   ]
  },
  {
   "cell_type": "code",
   "execution_count": null,
   "id": "ababbc71",
   "metadata": {},
   "outputs": [
    {
     "name": "stdout",
     "output_type": "stream",
     "text": [
      "{0: 'apple', 1: 'banana', 2: 'cherry', 3: 'orange', 4: 'grape'}\n"
     ]
    }
   ],
   "source": [
    "fruits = ['apple', 'banana', 'cherry', 'orange', 'grape']\n",
    "\n",
    "list =  {index: fruit for index, fruit in enumerate(fruits)}\n",
    "\n",
    "print(list)\n",
    "\n",
    "\n",
    "# Key Concepts Reinforced:\n",
    "\n",
    "# How to loop through a list AND know each element's position.\n",
    "\n",
    "# Cleaner, more Pythonic code compared to manually incrementing a counter.\n",
    "\n",
    "# Practical use cases: Displaying numbered lists, working with data that needs both index and value.\n",
    "\n",
    "# Extra Tip:\n",
    "# If you omit the start=1, it starts at 0 by default."
   ]
  },
  {
   "cell_type": "code",
   "execution_count": 7,
   "id": "c6d20a11",
   "metadata": {},
   "outputs": [
    {
     "name": "stdout",
     "output_type": "stream",
     "text": [
      "Names with index: {1: 'Rajashree', 2: 'Chandan', 3: 'Saanvi Rachan'}\n"
     ]
    }
   ],
   "source": [
    "names = ['Rajashree', 'Chandan', 'Saanvi Rachan']\n",
    "\n",
    "names_list_with_index = {index: name for index, name in enumerate(names, start=1)}\n",
    "\n",
    "print(\"Names with index:\", names_list_with_index)"
   ]
  },
  {
   "cell_type": "markdown",
   "id": "944602c1",
   "metadata": {},
   "source": [
    "## 4. Topic: List Comprehensions & Filtering"
   ]
  },
  {
   "cell_type": "code",
   "execution_count": 1,
   "id": "a4fe48af",
   "metadata": {},
   "outputs": [
    {
     "name": "stdout",
     "output_type": "stream",
     "text": [
      "Filtered and squared odd numbers: [1, 9, 25, 49, 81]\n"
     ]
    }
   ],
   "source": [
    "# Daily Python Snippet:\n",
    "# Filter out even numbers and square the odd numbers in a list\n",
    "\n",
    "numbers = [1, 2, 3, 4, 5, 6, 7, 8, 9, 10]\n",
    "filtered_numbers = [num**2 for num in numbers if num % 2 !=0]\n",
    "print(\"Filtered and squared odd numbers:\", filtered_numbers)"
   ]
  },
  {
   "cell_type": "markdown",
   "id": "80ff623f",
   "metadata": {},
   "source": [
    "## 5. Understanding mutable default arguments in Python"
   ]
  },
  {
   "cell_type": "code",
   "execution_count": 5,
   "id": "a142f392",
   "metadata": {},
   "outputs": [
    {
     "name": "stdout",
     "output_type": "stream",
     "text": [
      "['apple']\n",
      "['apple', 'banana']\n"
     ]
    }
   ],
   "source": [
    "def add_item(item, item_list=[]):\n",
    "    item_list.append(item)\n",
    "    return item_list\n",
    "\n",
    "\n",
    "print(add_item('apple'))\n",
    "print(add_item('banana'))\n",
    "\n",
    "# When you use a mutable object (like a list or dict) as a default argument, it's created only once when the function is defined, not each time it's called.\n",
    "\n",
    "# So, values persist between function calls!\n",
    "\n",
    "# The code above will print:\n",
    "\n",
    "# text\n",
    "# ['apple']\n",
    "# ['apple', 'banana']\n"
   ]
  },
  {
   "cell_type": "code",
   "execution_count": null,
   "id": "5b1e577a",
   "metadata": {},
   "outputs": [
    {
     "name": "stdout",
     "output_type": "stream",
     "text": [
      "['apple']\n",
      "['banana']\n"
     ]
    }
   ],
   "source": [
    "def add_item(item, item_list=None):\n",
    "    if item_list is None:\n",
    "        item_list = []\n",
    "    item_list.append(item)\n",
    "    return item_list\n",
    "\n",
    "print(add_item('apple'))\n",
    "print(add_item('banana'))\n",
    "\n",
    "# Never use mutable default arguments unless you specifically want to share them across function calls."
   ]
  },
  {
   "cell_type": "markdown",
   "id": "01751a76",
   "metadata": {},
   "source": [
    "## 6. Filtering and Transforming Lists Using List Comprehensions\n",
    "Topic: List comprehensions, filtering, and basic transformations\n",
    "What you’ll learn:\n",
    "\n",
    "How to filter items in a list with a condition\n",
    "\n",
    "How to apply transformations to each filtered item\n",
    "\n",
    "Writing concise and readable code\n",
    "\n",
    "Why this is valuable:\n",
    "\n",
    "List comprehensions replace verbose loops with cleaner code.\n",
    "\n",
    "Filtering and transforming in one line makes your code efficient and Pythonic.\n",
    "\n",
    "Strengthens understanding of iterable processing."
   ]
  },
  {
   "cell_type": "code",
   "execution_count": 7,
   "id": "bb764a79",
   "metadata": {},
   "outputs": [
    {
     "name": "stdout",
     "output_type": "stream",
     "text": [
      "Squared even numbers: [4, 16, 36, 64, 100]\n"
     ]
    }
   ],
   "source": [
    "# Given a list of numbers, get squares of only the even numbers\n",
    "\n",
    "numbers = [1, 2, 3, 4, 5, 6, 7, 8, 9, 10]\n",
    "\n",
    "# Using list comprehension: filter even numbers and square them\n",
    "squared_even_numbers = [num**2 for num in numbers if num %2 == 0]\n",
    "print(\"Squared even numbers:\", squared_even_numbers)"
   ]
  },
  {
   "cell_type": "markdown",
   "id": "73ec4849",
   "metadata": {},
   "source": [
    "## 7. Using enumerate for Easy Indexing"
   ]
  },
  {
   "cell_type": "code",
   "execution_count": 10,
   "id": "ee441417",
   "metadata": {},
   "outputs": [
    {
     "name": "stdout",
     "output_type": "stream",
     "text": [
      "Fruits with index: {0: 'apple', 1: 'banana', 2: 'cherry', 3: 'date'}\n"
     ]
    }
   ],
   "source": [
    "# Suppose you have a list of fruits and want to print each with its position.\n",
    "fruits = ['apple', 'banana', 'cherry', 'date']\n",
    "\n",
    "fruits_with_index = { index: fruit for index, fruit in enumerate(fruits)}\n",
    "print(\"Fruits with index:\", fruits_with_index)\n"
   ]
  },
  {
   "cell_type": "code",
   "execution_count": null,
   "id": "ee446a2c",
   "metadata": {},
   "outputs": [
    {
     "name": "stdout",
     "output_type": "stream",
     "text": [
      "0: apple\n",
      "1: banana\n",
      "2: cherry\n",
      "3: date\n"
     ]
    }
   ],
   "source": [
    "# Instead of manually managing the index, use 'enumerate'.\n",
    "for index, fruit in enumerate(fruits):\n",
    "    print(f\"{index}: {fruit}\")\n",
    "\n",
    "# enumerate is a built-in function that streamlines looping when you need both the item and its index—common in many practical coding scenarios. \n",
    "# It reinforces the concept of readable, Pythonic code, making programs easier to understand and maintain."
   ]
  },
  {
   "cell_type": "code",
   "execution_count": 12,
   "id": "5910d90d",
   "metadata": {},
   "outputs": [
    {
     "name": "stdout",
     "output_type": "stream",
     "text": [
      "1: apple\n",
      "2: banana\n",
      "3: cherry\n",
      "4: date\n"
     ]
    }
   ],
   "source": [
    "for index, fruit in enumerate(fruits, 1):\n",
    "    print(f\"{index}: {fruit}\")"
   ]
  },
  {
   "cell_type": "markdown",
   "id": "4c091624",
   "metadata": {},
   "source": [
    "## 8. Finding the Most Common Words in Text\n",
    "Concepts covered:\n",
    "\n",
    "String cleaning & normalization\n",
    "\n",
    "Splitting text into words\n",
    "\n",
    "Using collections.Counter\n",
    "\n",
    "Practical text analytics"
   ]
  },
  {
   "cell_type": "code",
   "execution_count": null,
   "id": "518cbe63",
   "metadata": {},
   "outputs": [
    {
     "name": "stdout",
     "output_type": "stream",
     "text": [
      "is: 3\n",
      "powerful: 3\n",
      "python: 2\n"
     ]
    }
   ],
   "source": [
    "import re\n",
    "from collections import Counter\n",
    "\n",
    "text = \"\"\"\n",
    "Python is powerful and simple.\n",
    "Simple code is powerful.\n",
    "Learning Python is fun and powerful!\n",
    "\"\"\"\n",
    "\n",
    "# 1. Lowercase and remove punctuation\n",
    "cleaned_text = re.sub(r\"[^\\w\\s]\", \"\", text.lower())\n",
    "\n",
    "# 2. Split into words\n",
    "words = cleaned_text.split()\n",
    "\n",
    "# 3. Count frequency\n",
    "word_counts = Counter(words)\n",
    "\n",
    "# 4. Show the 3 most common words\n",
    "for word, count in word_counts.most_common(3):\n",
    "    print(f\"{word}: {count}\")\n",
    "\n",
    "# Key Insights:\n",
    "\n",
    "# re.sub helps clean unwanted characters.\n",
    "\n",
    "# Lowercasing avoids treating \"Python\" and \"python\" as different words.\n",
    "\n",
    "# Counter is a built-in that saves you from manually writing counting loops.\n",
    "\n",
    "# most_common(n) is excellent for quick analytics.\n",
    "\n"
   ]
  },
  {
   "cell_type": "code",
   "execution_count": 14,
   "id": "b5d54ad3",
   "metadata": {},
   "outputs": [
    {
     "name": "stdout",
     "output_type": "stream",
     "text": [
      "is: 3\n",
      "powerful: 3\n",
      "python: 2\n",
      "and: 2\n",
      "simple: 2\n"
     ]
    }
   ],
   "source": [
    "for word, count in word_counts.most_common(5):\n",
    "    print(f\"{word}: {count}\")\n"
   ]
  },
  {
   "cell_type": "markdown",
   "id": "28abd9ed",
   "metadata": {},
   "source": [
    "## 9. Python’s enumerate() – Making Loops More Powerful\n",
    "Many beginners use range(len(list)) to loop with an index… but enumerate() is cleaner and more Pythonic."
   ]
  },
  {
   "cell_type": "code",
   "execution_count": null,
   "id": "fa6d54ac",
   "metadata": {},
   "outputs": [
    {
     "name": "stdout",
     "output_type": "stream",
     "text": [
      "Shopping List:\n",
      "1. apples\n",
      "2. bread\n",
      "3. milk\n"
     ]
    }
   ],
   "source": [
    "# Example: Keeping track of position in a grocery list\n",
    "\n",
    "grocery_list = [\"apples\", \"bread\", \"milk\"]\n",
    "\n",
    "print(\"Shopping List:\")\n",
    "\n",
    "for index, item in enumerate(grocery_list, 1):\n",
    "    print(f\"{index}. {item}\")\n",
    "\n",
    "# Insight:\n",
    "# - enumerate() returns (index, value) pairs from an iterable\n",
    "# - start= parameter helps in labeling from 1 instead of 0\n",
    "\n",
    "# Why This Matters:\n",
    "\n",
    "# Avoids cumbersome range(len(...))\n",
    "\n",
    "# Improves readability\n",
    "\n",
    "# Works with any iterable (lists, strings, tuples, generators)\n",
    "\n",
    "# Lets you safely use both index and value together"
   ]
  },
  {
   "cell_type": "code",
   "execution_count": 17,
   "id": "55dee9c3",
   "metadata": {},
   "outputs": [
    {
     "name": "stdout",
     "output_type": "stream",
     "text": [
      "Select dish from the menu:\n",
      "1. Gobi Manchurian\n",
      "2. Corn\n",
      "3. Samosa\n",
      "4. Kachori\n",
      "5. Pani Puri\n",
      "You selected: Samosa\n",
      "Thank you for your choice!\n"
     ]
    }
   ],
   "source": [
    "# Write a program that shows a numbered menu of dishes and asks the user to pick one, \n",
    "# using enumerate() to display options.\n",
    "\n",
    "menu = [\"Gobi Manchurian\", \"Corn\", \"Samosa\", \"Kachori\", \"Pani Puri\"]\n",
    "\n",
    "print(f\"Select dish from the menu:\")\n",
    "for index, item in enumerate(menu, 1):\n",
    "    print(f\"{index}. {item}\")\n",
    "\n",
    "# Ask user for choice\n",
    "choice = int(input(\"Enter the number of your choice: \"))\n",
    "if 1 <= choice <= len(menu):\n",
    "    print(f\"You selected: {menu[choice - 1]}\")\n",
    "    print(\"Thank you for your choice!\")\n"
   ]
  },
  {
   "cell_type": "code",
   "execution_count": 18,
   "id": "c651e675",
   "metadata": {},
   "outputs": [
    {
     "name": "stdout",
     "output_type": "stream",
     "text": [
      "Select dish from the menu:\n",
      "1: Piza\n",
      "2: Burger\n",
      "3: Pasta\n",
      "4: Salad\n",
      "5: Soup\n",
      "You selected: Burger\n",
      "Thank you for choosing!\n"
     ]
    }
   ],
   "source": [
    "menu = [\"Piza\", \"Burger\", \"Pasta\", \"Salad\", \"Soup\"]\n",
    "\n",
    "print(f\"Select dish from the menu:\")\n",
    "\n",
    "for index, item in enumerate(menu, 1):\n",
    "    print(f\"{index}: {item}\")\n",
    "\n",
    "choice = int(input(\"Enter the number from the menu:\"))\n",
    "\n",
    "if 1 <= choice <= len(menu):\n",
    "    print(f\"You selected: {menu[choice-1]}\")\n",
    "    print(\"Thank you for choosing!\")"
   ]
  },
  {
   "cell_type": "markdown",
   "id": "be9bd178",
   "metadata": {},
   "source": [
    "## 10. Topic: Swapping Variables Without a Temporary Variable\n",
    "A lot of beginners use a temporary variable to swap two values —\n",
    "but in Python, you can do it in a single, elegant line."
   ]
  },
  {
   "cell_type": "code",
   "execution_count": null,
   "id": "08f6c9b6",
   "metadata": {},
   "outputs": [
    {
     "name": "stdout",
     "output_type": "stream",
     "text": [
      "Before swap: 5 10\n",
      "After swap: 10 5\n"
     ]
    }
   ],
   "source": [
    "# Example: Swapping two numbers\n",
    "\n",
    "a=5\n",
    "b=10\n",
    "\n",
    "print(\"Before swap:\", a, b)\n",
    "\n",
    "# Swapping without a temporary variable\n",
    "a,b = b,a\n",
    "print(\"After swap:\", a, b)\n",
    "\n",
    "# Why This Matters:\n",
    "\n",
    "# No need for a temp variable.\n",
    "\n",
    "# Works with numbers, strings, lists, and even object references.\n",
    "\n",
    "# One of Python’s most Pythonic features.\n"
   ]
  },
  {
   "cell_type": "markdown",
   "id": "4f3de50b",
   "metadata": {},
   "source": [
    "#### Practice: Write a function reverse_tuple(t) that takes a tuple of two items and swaps them using tuple unpacking."
   ]
  },
  {
   "cell_type": "code",
   "execution_count": 21,
   "id": "323c8a04",
   "metadata": {},
   "outputs": [
    {
     "name": "stdout",
     "output_type": "stream",
     "text": [
      "(10, 5)\n"
     ]
    }
   ],
   "source": [
    "def reverse_tuple(t):\n",
    "    if len(t) != 2:\n",
    "        raise ValueError(\"Input must be a tuple of two items.\")\n",
    "    \n",
    "    a, b = t   # tuple unpacking\n",
    "    return (b, a)  # swapped order\n",
    "\n",
    "\n",
    "# Example usage:\n",
    "pair = (5, 10)\n",
    "reversed_pair = reverse_tuple(pair)\n",
    "print(reversed_pair)  # Output: (10, 5)"
   ]
  },
  {
   "cell_type": "markdown",
   "id": "3a60bfc3",
   "metadata": {},
   "source": [
    "## 11. Convert a list of temperatures in Celsius to Fahrenheit"
   ]
  },
  {
   "cell_type": "code",
   "execution_count": 1,
   "id": "99c489c0",
   "metadata": {},
   "outputs": [
    {
     "name": "stdout",
     "output_type": "stream",
     "text": [
      "Celsius:     [0, 10, 20, 30, 40]\n",
      "Fahrenheit:  [32.0, 50.0, 68.0, 86.0, 104.0]\n"
     ]
    }
   ],
   "source": [
    "temps_celsius = [0, 10, 20, 30, 40]\n",
    "temps_fahrenheit = [(c * 9/5) + 32 for c in temps_celsius]\n",
    "\n",
    "print(\"Celsius:    \", temps_celsius)\n",
    "print(\"Fahrenheit: \", temps_fahrenheit)"
   ]
  },
  {
   "cell_type": "markdown",
   "id": "66268439",
   "metadata": {},
   "source": [
    "## 12. Python's zip() for Pairing Data"
   ]
  },
  {
   "cell_type": "code",
   "execution_count": null,
   "id": "b0297a30",
   "metadata": {},
   "outputs": [
    {
     "name": "stdout",
     "output_type": "stream",
     "text": [
      "[('Alice', 85), ('Bob', 92), ('Charlie', 78)]\n",
      "Alice scored 85\n",
      "Bob scored 92\n",
      "Charlie scored 78\n"
     ]
    }
   ],
   "source": [
    "# Two related lists\n",
    "names = [\"Alice\", \"Bob\", \"Charlie\"]\n",
    "scores = [85, 92, 78]\n",
    "\n",
    "paired = list(zip(names, scores))\n",
    "\n",
    "print(paired)\n",
    "\n",
    "for name, score in zip(names, scores):\n",
    "    print(f\"{name} scored {score}\")\n",
    "\n",
    "\n",
    "# Why it’s insightful:\n",
    "# zip() allows clean pairing of data from multiple sequences.\n",
    "\n",
    "# Works with any iterable (lists, tuples, ranges, etc.).\n",
    "\n",
    "# Stops at the shortest iterable — avoiding IndexError.\n",
    "\n",
    "# Useful for reading CSVs, merging datasets, or parallel iteration."
   ]
  },
  {
   "cell_type": "markdown",
   "id": "5315b25f",
   "metadata": {},
   "source": [
    "## Modify the code so that if one list is shorter, missing items are filled with \"N/A\".\n",
    "(Hint: Look into itertools.zip_longest.)"
   ]
  },
  {
   "cell_type": "code",
   "execution_count": 4,
   "id": "8182445c",
   "metadata": {},
   "outputs": [
    {
     "name": "stdout",
     "output_type": "stream",
     "text": [
      "[('Rajashree', 90), ('Chandan', 95)]\n",
      "Rajashree scored 90\n",
      "Chandan scored 95\n",
      "Saanvi scored N/A\n"
     ]
    }
   ],
   "source": [
    "names = [\"Rajashree\", \"Chandan\", \"Saanvi\"]\n",
    "scores = [90, 95]\n",
    "\n",
    "paired = list(zip(names, scores))\n",
    "\n",
    "print(paired)\n",
    "\n",
    "# When pairing sequences of unequal lengths, use zip_longest to keep going until the longest sequence ends, filling missing values as needed.\n",
    "\n",
    "from itertools import zip_longest\n",
    "\n",
    "for name, score in zip_longest(names, scores, fillvalue=\"N/A\"):\n",
    "    print(f\"{name} scored {score}\")\n"
   ]
  }
 ],
 "metadata": {
  "kernelspec": {
   "display_name": "venv",
   "language": "python",
   "name": "python3"
  },
  "language_info": {
   "codemirror_mode": {
    "name": "ipython",
    "version": 3
   },
   "file_extension": ".py",
   "mimetype": "text/x-python",
   "name": "python",
   "nbconvert_exporter": "python",
   "pygments_lexer": "ipython3",
   "version": "3.13.3"
  }
 },
 "nbformat": 4,
 "nbformat_minor": 5
}
