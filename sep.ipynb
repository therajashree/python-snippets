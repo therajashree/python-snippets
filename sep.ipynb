{
 "cells": [
  {
   "cell_type": "markdown",
   "id": "2f3993ff",
   "metadata": {},
   "source": [
    "## Capitalize Every Word in a String"
   ]
  },
  {
   "cell_type": "code",
   "execution_count": 3,
   "id": "d9791312",
   "metadata": {},
   "outputs": [
    {
     "name": "stdout",
     "output_type": "stream",
     "text": [
      "Capitalized string: Pynative.com Is For Python Lovers\n"
     ]
    }
   ],
   "source": [
    "def capitalize_words(text):\n",
    "    words = text.split()  # Split the string into a list of words\n",
    "    capitalized_words = [word.capitalize() for word in words]  # Capitalize each word\n",
    "    return \" \".join(capitalized_words)  # Join the capitalized words back into a string\n",
    "\n",
    "# Example usage:\n",
    "str1 = \"pynative.com is for python lovers\"\n",
    "capitalized_string = capitalize_words(str1)\n",
    "print(\"Capitalized string:\", capitalized_string)"
   ]
  },
  {
   "cell_type": "code",
   "execution_count": 4,
   "id": "fd037b80",
   "metadata": {},
   "outputs": [
    {
     "name": "stdout",
     "output_type": "stream",
     "text": [
      "[0, 4, 16, 36, 64, 100]\n"
     ]
    }
   ],
   "source": [
    "squares = [x**2 for x in range(11) if x % 2 == 0]\n",
    "print(squares)\n"
   ]
  },
  {
   "cell_type": "code",
   "execution_count": 5,
   "id": "beca91ba",
   "metadata": {},
   "outputs": [
    {
     "name": "stdout",
     "output_type": "stream",
     "text": [
      "[1, 'Multiple of 2', 'Multiple of 3', 'Multiple of 2', 5, 'Multiple of 6', 7, 'Multiple of 2', 'Multiple of 3', 'Multiple of 2', 11, 'Multiple of 6', 13, 'Multiple of 2', 'Multiple of 3', 'Multiple of 2', 17, 'Multiple of 6', 19]\n"
     ]
    }
   ],
   "source": [
    "my_list = ['Multiple of 6' if i % 6 == 0\n",
    "  else 'Multiple of 2' if i % 2 == 0\n",
    "  else 'Multiple of 3' if i % 3 == 0\n",
    "  else i for i in range(1, 20)]\n",
    "print(my_list)"
   ]
  },
  {
   "cell_type": "code",
   "execution_count": 6,
   "id": "c020666b",
   "metadata": {},
   "outputs": [
    {
     "name": "stdout",
     "output_type": "stream",
     "text": [
      "1. apple\n",
      "2. banana\n",
      "3. cherry\n"
     ]
    }
   ],
   "source": [
    "fruits = [\"apple\", \"banana\", \"cherry\"]\n",
    "for index, fruit in enumerate(fruits, start=1):\n",
    "    print(f\"{index}. {fruit}\")"
   ]
  },
  {
   "cell_type": "markdown",
   "id": "195b7f21",
   "metadata": {},
   "source": [
    "## Capitalize Every Word in a String\n",
    "capitalizes the first letter of every word in a given sentence"
   ]
  },
  {
   "cell_type": "code",
   "execution_count": 2,
   "id": "7ab1017a",
   "metadata": {},
   "outputs": [
    {
     "name": "stdout",
     "output_type": "stream",
     "text": [
      "Capitalized words: Pynative.com Is For Python Lovers\n"
     ]
    }
   ],
   "source": [
    "def capitalize_words(text):\n",
    "    words = text.split()\n",
    "    capitalize_words = [word.capitalize() for word in words]\n",
    "    return \" \".join(capitalize_words)\n",
    "\n",
    "\n",
    "\n",
    "str1 = \"pynative.com is for python lovers\"\n",
    "capitalized_words_list = capitalize_words(str1)\n",
    "print(\"Capitalized words:\", capitalized_words_list)"
   ]
  },
  {
   "cell_type": "markdown",
   "id": "696d445f",
   "metadata": {},
   "source": [
    "## Get the squares of all even numbers from 0 to 10"
   ]
  },
  {
   "cell_type": "code",
   "execution_count": 3,
   "id": "0f6e5ca8",
   "metadata": {},
   "outputs": [
    {
     "name": "stdout",
     "output_type": "stream",
     "text": [
      "[0, 4, 16, 36, 64, 100]\n"
     ]
    }
   ],
   "source": [
    "squares = [number**2 for number in range(11) if number%2 == 0]\n",
    "print(squares)"
   ]
  },
  {
   "cell_type": "markdown",
   "id": "3b532664",
   "metadata": {},
   "source": [
    "## Given a list of numbers, create a new list containing only the even numbers, squared."
   ]
  },
  {
   "cell_type": "code",
   "execution_count": 5,
   "id": "17f014c8",
   "metadata": {},
   "outputs": [
    {
     "name": "stdout",
     "output_type": "stream",
     "text": [
      "even number squares only: [4, 16, 36, 64, 100]\n"
     ]
    }
   ],
   "source": [
    "numbers = [1, 2, 3, 4, 5, 6, 7, 8, 9, 10]\n",
    "\n",
    "even_number_square = [number**2 for number in numbers if number%2 == 0]\n",
    "\n",
    "print(\"even number squares only:\", even_number_square)"
   ]
  },
  {
   "cell_type": "markdown",
   "id": "1879d006",
   "metadata": {},
   "source": [
    "## Given a list of numbers, create a new list with only the even numbers"
   ]
  },
  {
   "cell_type": "code",
   "execution_count": 6,
   "id": "7cd1a89a",
   "metadata": {},
   "outputs": [
    {
     "name": "stdout",
     "output_type": "stream",
     "text": [
      "even numbers list: [2, 4, 6, 8, 10]\n"
     ]
    }
   ],
   "source": [
    "numbers = [1, 2, 3, 4, 5, 6, 7, 8, 9, 10]\n",
    "\n",
    "even_number_list = [number for number in numbers if number%2 ==0]\n",
    "\n",
    "print(\"even numbers list:\", even_number_list)"
   ]
  },
  {
   "cell_type": "code",
   "execution_count": 17,
   "id": "a9886118",
   "metadata": {},
   "outputs": [
    {
     "name": "stdout",
     "output_type": "stream",
     "text": [
      "even numbers list: [6, 7, 8, 9, 10]\n"
     ]
    }
   ],
   "source": [
    "numbers = [1, 2, 3, 4, 5, 6, 7, 8, 9, 10]\n",
    "\n",
    "even_number_list = [number for number in numbers if number > 5]\n",
    "\n",
    "print(\"even numbers list:\", even_number_list)"
   ]
  },
  {
   "cell_type": "code",
   "execution_count": 18,
   "id": "978d7df2",
   "metadata": {},
   "outputs": [
    {
     "name": "stdout",
     "output_type": "stream",
     "text": [
      "even numbers list: [36, 49, 64, 81, 100]\n"
     ]
    }
   ],
   "source": [
    "numbers = [1, 2, 3, 4, 5, 6, 7, 8, 9, 10]\n",
    "\n",
    "even_number_list = [number**2 for number in numbers if number > 5]\n",
    "\n",
    "print(\"even numbers list:\", even_number_list)"
   ]
  },
  {
   "cell_type": "markdown",
   "id": "2f3f1402",
   "metadata": {},
   "source": [
    "## Generate a list describing numbers 1-19 based on their divisibility"
   ]
  },
  {
   "cell_type": "code",
   "execution_count": 23,
   "id": "62b01e72",
   "metadata": {},
   "outputs": [
    {
     "name": "stdout",
     "output_type": "stream",
     "text": [
      "[1, 'Multiple of 2', 'Multiple of 3', 'Multiple of 2', 5, 'Multiple of 6', 7, 'Multiple of 2', 'Multiple of 3', 'Multiple of 2', 11, 'Multiple of 6', 13, 'Multiple of 2', 'Multiple of 3', 'Multiple of 2', 17, 'Multiple of 6', 19]\n"
     ]
    }
   ],
   "source": [
    "multiple_list = [\n",
    "    'Multiple of 6' if number%6 == 0\n",
    "    else 'Multiple of 2' if number%2 == 0\n",
    "    else 'Multiple of 3' if number%3 == 0\n",
    "    else number\n",
    "    for number in range(1, 20)\n",
    "]\n",
    "print(multiple_list)\n"
   ]
  },
  {
   "cell_type": "markdown",
   "id": "bd979250",
   "metadata": {},
   "source": [
    "## Reverse a String"
   ]
  },
  {
   "cell_type": "code",
   "execution_count": 8,
   "id": "beb25fb9",
   "metadata": {},
   "outputs": [
    {
     "name": "stdout",
     "output_type": "stream",
     "text": [
      "Reversed string: nohtyP\n"
     ]
    }
   ],
   "source": [
    "s = \"Python\"\n",
    "reversed_string = s[::-1]\n",
    "\n",
    "print(\"Reversed string:\", reversed_string)"
   ]
  },
  {
   "cell_type": "code",
   "execution_count": 9,
   "id": "a4a7d37f",
   "metadata": {},
   "outputs": [
    {
     "name": "stdout",
     "output_type": "stream",
     "text": [
      "True\n",
      "True\n",
      "False\n"
     ]
    }
   ],
   "source": [
    "def is_palindrome(s):\n",
    "    return s == s[::-1]\n",
    "\n",
    "print(is_palindrome(\"madam\"))\n",
    "print(is_palindrome(\"radar\"))\n",
    "print(is_palindrome(\"hello\"))"
   ]
  },
  {
   "cell_type": "markdown",
   "id": "8b3f05f0",
   "metadata": {},
   "source": [
    "## Palindrome Checker\n",
    "A palindrome is a word, number, or phrase that reads the same backward as forward. This snippet emphasizes string slicing, user interaction, and conditional logic."
   ]
  },
  {
   "cell_type": "code",
   "execution_count": 11,
   "id": "46132738",
   "metadata": {},
   "outputs": [
    {
     "name": "stdout",
     "output_type": "stream",
     "text": [
      "Word 'hello' is not a palindrome.\n"
     ]
    }
   ],
   "source": [
    "word = input(\"Enter a word: \")\n",
    "\n",
    "if word == word[::-1]:\n",
    "    print(f\"Word '{word}' is a palindrome.\")\n",
    "else:\n",
    "    print(f\"Word '{word}' is not a palindrome.\")"
   ]
  },
  {
   "cell_type": "markdown",
   "id": "47e1d716",
   "metadata": {},
   "source": [
    "## Word Frequency Counter"
   ]
  },
  {
   "cell_type": "code",
   "execution_count": 14,
   "id": "e885275d",
   "metadata": {},
   "outputs": [
    {
     "name": "stdout",
     "output_type": "stream",
     "text": [
      "Word frequency in sentence: {'practice': 2, 'makes': 2, 'perfect': 2, 'and': 1, 'progress': 1}\n"
     ]
    }
   ],
   "source": [
    "sentence = \"Practice makes perfect, and perfect practice makes progress.\"\n",
    "\n",
    "#Clean and split sentence into words\n",
    "words = sentence.lower().replace(',', '').replace('.', '').split()\n",
    "\n",
    "frequency = {}\n",
    "for word in words:\n",
    "    if word in frequency:\n",
    "        frequency[word] += 1\n",
    "    else :\n",
    "        frequency[word] = 1\n",
    "\n",
    "print(\"Word frequency in sentence:\", frequency)\n"
   ]
  },
  {
   "cell_type": "markdown",
   "id": "502a0ffb",
   "metadata": {},
   "source": [
    "## Invert a dictionary"
   ]
  },
  {
   "cell_type": "code",
   "execution_count": 19,
   "id": "afa12c34",
   "metadata": {},
   "outputs": [
    {
     "name": "stdout",
     "output_type": "stream",
     "text": [
      "Inverted dictionary: {1: 'a', 2: 'b', 3: 'c'}\n"
     ]
    }
   ],
   "source": [
    "original = {'a': 1, 'b': 2, 'c': 3}\n",
    "inverted = {value:key for key,value in original.items()}\n",
    "\n",
    "print(\"Inverted dictionary:\", inverted)"
   ]
  },
  {
   "cell_type": "markdown",
   "id": "4176d81e",
   "metadata": {},
   "source": [
    "## Remove Duplicates from a List"
   ]
  },
  {
   "cell_type": "code",
   "execution_count": 1,
   "id": "93a319ab",
   "metadata": {},
   "outputs": [
    {
     "name": "stdout",
     "output_type": "stream",
     "text": [
      "[1, 2, 3, 4, 5]\n"
     ]
    }
   ],
   "source": [
    "original_list = [1, 2, 2, 3, 4, 4, 5]\n",
    "\n",
    "# Remove duplicates while preserving order\n",
    "unique_list = list(dict.fromkeys(original_list))\n",
    "print(unique_list)"
   ]
  },
  {
   "cell_type": "markdown",
   "id": "bdd4b0ea",
   "metadata": {},
   "source": [
    "## Merge Two Lists Into a Dictionary"
   ]
  },
  {
   "cell_type": "code",
   "execution_count": 4,
   "id": "2c625324",
   "metadata": {},
   "outputs": [
    {
     "name": "stdout",
     "output_type": "stream",
     "text": [
      "{'A': 'blue', 'B': 'red', 'C': 'bold'}\n",
      "{'A': 'blue', 'B': 'red', 'C': 'bold'}\n",
      "{'A': 'blue', 'B': 'red', 'C': 'bold'}\n"
     ]
    }
   ],
   "source": [
    "keys_list = ['A', 'B', 'C']\n",
    "values_list = ['blue', 'red', 'bold']\n",
    "\n",
    "\n",
    "# Method 1: Using zip and dict()\n",
    "dict_method_1 = dict(zip(keys_list, values_list))\n",
    "\n",
    "# Method 2: Using dictionary comprehension\n",
    "dict_method_2 = {key: value for key, value in zip(keys_list, values_list)}\n",
    "\n",
    "# Method 3: Using a loop\n",
    "dict_method_3 = {}\n",
    "for key, value in zip(keys_list, values_list):\n",
    "    if key not in dict_method_3:\n",
    "        dict_method_3[key] = value\n",
    "\n",
    "print(dict_method_1)  # {'A': 'blue', 'B': 'red', 'C': 'bold'}\n",
    "print(dict_method_2)  # {'A': 'blue', 'B': 'red', 'C': 'bold'}\n",
    "print(dict_method_3)  # {'A': 'blue', 'B': 'red', 'C': 'bold'}"
   ]
  },
  {
   "cell_type": "markdown",
   "id": "175d7f4a",
   "metadata": {},
   "source": [
    "## Countdown Timer Example"
   ]
  },
  {
   "cell_type": "code",
   "execution_count": 9,
   "id": "0e9c5669",
   "metadata": {},
   "outputs": [
    {
     "name": "stdout",
     "output_type": "stream",
     "text": [
      "Time remaining: 5 seconds\n",
      "Time remaining: 4 seconds\n",
      "Time remaining: 3 seconds\n",
      "Time remaining: 2 seconds\n",
      "Time remaining: 1 seconds\n",
      "Time's up!\n"
     ]
    }
   ],
   "source": [
    "import time\n",
    "\n",
    "def countdown_timer(seconds):\n",
    "    while seconds > 0:\n",
    "        print(f\"Time remaining: {seconds} seconds\")\n",
    "        time.sleep(1)  # Pause for 1 second\n",
    "        seconds -= 1\n",
    "    print(\"Time's up!\")\n",
    "\n",
    "countdown_timer(5)"
   ]
  },
  {
   "cell_type": "markdown",
   "id": "5b8b821d",
   "metadata": {},
   "source": [
    "## Merging Two Lists into a Dictionary"
   ]
  },
  {
   "cell_type": "code",
   "execution_count": 11,
   "id": "9d9c3946",
   "metadata": {},
   "outputs": [
    {
     "name": "stdout",
     "output_type": "stream",
     "text": [
      "{'A': 'blue', 'B': 'red', 'C': 'bold'}\n"
     ]
    }
   ],
   "source": [
    "keys_list = ['A', 'B', 'C']\n",
    "values_list = ['blue', 'red', 'bold']\n",
    "\n",
    "merged_dict = dict(zip(keys_list, values_list))\n",
    "print(merged_dict)\n"
   ]
  },
  {
   "cell_type": "markdown",
   "id": "497c3965",
   "metadata": {},
   "source": [
    "## Tuple Unpacking for Cleaner CodE"
   ]
  },
  {
   "cell_type": "code",
   "execution_count": 12,
   "id": "5060eb4a",
   "metadata": {},
   "outputs": [
    {
     "name": "stdout",
     "output_type": "stream",
     "text": [
      "John\n",
      "Mike\n",
      "['Greg', 'Luke', 'Bob']\n"
     ]
    }
   ],
   "source": [
    "runners = 'John Mike Greg Luke Bob'\n",
    "first, second, *rest = runners.split(' ')\n",
    "print(first)    # Output: John\n",
    "print(second)   # Output: Mike\n",
    "print(rest)     # Output: ['Greg', 'Luke', 'Bob']"
   ]
  },
  {
   "cell_type": "markdown",
   "id": "d5a4659b",
   "metadata": {},
   "source": [
    "## String Formatting with F-Strings"
   ]
  },
  {
   "cell_type": "code",
   "execution_count": 13,
   "id": "2a0a7332",
   "metadata": {},
   "outputs": [
    {
     "name": "stdout",
     "output_type": "stream",
     "text": [
      "Jack scored 87.5 points.\n"
     ]
    }
   ],
   "source": [
    "name = \"Jack\"\n",
    "score = 87.5\n",
    "print(f\"{name} scored {score:.1f} points.\")  # Output: Jack scored 87.5 points"
   ]
  },
  {
   "cell_type": "code",
   "execution_count": 16,
   "id": "44dc833b",
   "metadata": {},
   "outputs": [
    {
     "name": "stdout",
     "output_type": "stream",
     "text": [
      "[1, 2, 3, 4, 5, 6, 7, 8, 9, 10, 11, 12, 13, 14, 15, 16, 17, 18, 19, 20]\n",
      "[4, 16, 36, 64, 100, 144, 196, 256, 324, 400]\n"
     ]
    }
   ],
   "source": [
    "# Create a list of numbers from 1 to 20\n",
    "\n",
    "list_of_numbers = list(range(1,21))\n",
    "\n",
    "print(list_of_numbers)\n",
    "\n",
    "# Using list comprehension to get squares of even numbers only\n",
    "\n",
    "even_squares = [num**2 for num in list_of_numbers if num %2 ==0]\n",
    "\n",
    "print(even_squares)"
   ]
  },
  {
   "cell_type": "code",
   "execution_count": null,
   "id": "4a431715",
   "metadata": {},
   "outputs": [],
   "source": []
  }
 ],
 "metadata": {
  "kernelspec": {
   "display_name": "venv",
   "language": "python",
   "name": "python3"
  },
  "language_info": {
   "codemirror_mode": {
    "name": "ipython",
    "version": 3
   },
   "file_extension": ".py",
   "mimetype": "text/x-python",
   "name": "python",
   "nbconvert_exporter": "python",
   "pygments_lexer": "ipython3",
   "version": "3.13.3"
  }
 },
 "nbformat": 4,
 "nbformat_minor": 5
}
